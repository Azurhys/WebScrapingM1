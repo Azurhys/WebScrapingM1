{
 "cells": [
  {
   "cell_type": "code",
   "execution_count": 1,
   "id": "5c80499f-600b-434f-bd9a-3e422bb450fa",
   "metadata": {},
   "outputs": [],
   "source": [
    "import requests\n",
    "from bs4 import BeautifulSoup"
   ]
  },
  {
   "cell_type": "code",
   "execution_count": 2,
   "id": "bd6fc02b-b4ec-44d6-8585-92148770ff17",
   "metadata": {},
   "outputs": [],
   "source": [
    "page = requests.get(\"http://dataquestio.github.io/web-scraping-pages/simple.html\")"
   ]
  },
  {
   "cell_type": "code",
   "execution_count": 3,
   "id": "db665f9f-6f6e-4e89-8850-1ce7a01b7762",
   "metadata": {},
   "outputs": [],
   "source": [
    "soup = BeautifulSoup(page.content, 'html.parser')"
   ]
  },
  {
   "cell_type": "code",
   "execution_count": 4,
   "id": "6986efdd-50cb-4eca-8a72-61ccfd492753",
   "metadata": {},
   "outputs": [
    {
     "name": "stdout",
     "output_type": "stream",
     "text": [
      "<!DOCTYPE html>\n",
      "<html>\n",
      " <head>\n",
      "  <title>\n",
      "   A simple example page\n",
      "  </title>\n",
      " </head>\n",
      " <body>\n",
      "  <p>\n",
      "   Here is some simple content for this page.\n",
      "  </p>\n",
      " </body>\n",
      "</html>\n",
      "\n"
     ]
    }
   ],
   "source": [
    "print(soup.prettify())"
   ]
  },
  {
   "cell_type": "code",
   "execution_count": 5,
   "id": "3a9a08a3-f80e-45f0-b161-6005b4b9f486",
   "metadata": {},
   "outputs": [
    {
     "data": {
      "text/plain": [
       "<p>Here is some simple content for this page.</p>"
      ]
     },
     "execution_count": 5,
     "metadata": {},
     "output_type": "execute_result"
    }
   ],
   "source": [
    "soup.find('p')"
   ]
  },
  {
   "cell_type": "code",
   "execution_count": 6,
   "id": "c817b791-4eac-480b-bcb8-38a8a4877cdf",
   "metadata": {},
   "outputs": [
    {
     "data": {
      "text/plain": [
       "[<p>Here is some simple content for this page.</p>]"
      ]
     },
     "execution_count": 6,
     "metadata": {},
     "output_type": "execute_result"
    }
   ],
   "source": [
    "soup.find_all('p')"
   ]
  },
  {
   "cell_type": "code",
   "execution_count": 7,
   "id": "67df01f1-de78-4f49-a2ca-cd7bced894dd",
   "metadata": {},
   "outputs": [
    {
     "data": {
      "text/plain": [
       "'Here is some simple content for this page.'"
      ]
     },
     "execution_count": 7,
     "metadata": {},
     "output_type": "execute_result"
    }
   ],
   "source": [
    "soup.find('p').get_text()"
   ]
  },
  {
   "cell_type": "code",
   "execution_count": 8,
   "id": "9d438d28-ab5b-4b16-9008-1549bb261507",
   "metadata": {},
   "outputs": [
    {
     "data": {
      "text/plain": [
       "'Here is some simple content for this page.'"
      ]
     },
     "execution_count": 8,
     "metadata": {},
     "output_type": "execute_result"
    }
   ],
   "source": [
    "soup.find('p').get_text().strip()"
   ]
  },
  {
   "cell_type": "code",
   "execution_count": 9,
   "id": "cd2a8263-d4f9-49f0-a817-a29f41ba99aa",
   "metadata": {},
   "outputs": [
    {
     "data": {
      "text/plain": [
       "'Here is some simple content for this page.'"
      ]
     },
     "execution_count": 9,
     "metadata": {},
     "output_type": "execute_result"
    }
   ],
   "source": [
    "soup.find_all('p')[0].get_text()"
   ]
  },
  {
   "cell_type": "code",
   "execution_count": 10,
   "id": "929d754b-8c6f-40b5-9b7b-d2c57dbe8649",
   "metadata": {},
   "outputs": [
    {
     "data": {
      "text/plain": [
       "[<p class=\"inner-text first-item\" id=\"first\">\n",
       "                 First paragraph.\n",
       "             </p>,\n",
       " <p class=\"inner-text\">\n",
       "                 Second paragraph.\n",
       "             </p>,\n",
       " <p class=\"outer-text first-item\" id=\"second\">\n",
       " <b>\n",
       "                 First outer paragraph.\n",
       "             </b>\n",
       " </p>,\n",
       " <p class=\"outer-text\">\n",
       " <b>\n",
       "                 Second outer paragraph.\n",
       "             </b>\n",
       " </p>]"
      ]
     },
     "execution_count": 10,
     "metadata": {},
     "output_type": "execute_result"
    }
   ],
   "source": [
    "page = requests.get(\"http://dataquestio.github.io/web-scraping-pages/ids_and_classes.html\")\n",
    "soup = BeautifulSoup(page.content)\n",
    "soup.find_all('p')"
   ]
  },
  {
   "cell_type": "code",
   "execution_count": 11,
   "id": "8bedc5fb-c5b3-45b9-a792-c21243b34285",
   "metadata": {},
   "outputs": [
    {
     "name": "stdout",
     "output_type": "stream",
     "text": [
      "<html>\n",
      " <head>\n",
      "  <title>\n",
      "   A simple example page\n",
      "  </title>\n",
      " </head>\n",
      " <body>\n",
      "  <div>\n",
      "   <p class=\"inner-text first-item\" id=\"first\">\n",
      "    First paragraph.\n",
      "   </p>\n",
      "   <p class=\"inner-text\">\n",
      "    Second paragraph.\n",
      "   </p>\n",
      "  </div>\n",
      "  <p class=\"outer-text first-item\" id=\"second\">\n",
      "   <b>\n",
      "    First outer paragraph.\n",
      "   </b>\n",
      "  </p>\n",
      "  <p class=\"outer-text\">\n",
      "   <b>\n",
      "    Second outer paragraph.\n",
      "   </b>\n",
      "  </p>\n",
      " </body>\n",
      "</html>\n",
      "\n"
     ]
    }
   ],
   "source": [
    "print(soup.prettify())"
   ]
  },
  {
   "cell_type": "code",
   "execution_count": 12,
   "id": "396e46ca-d7a2-40db-9f10-916f8265e477",
   "metadata": {},
   "outputs": [
    {
     "data": {
      "text/plain": [
       "'First outer paragraph.'"
      ]
     },
     "execution_count": 12,
     "metadata": {},
     "output_type": "execute_result"
    }
   ],
   "source": [
    "soup.find_all('p', {\"class\":\"outer-text\"})[0].get_text().strip()"
   ]
  },
  {
   "cell_type": "code",
   "execution_count": 13,
   "id": "13c5d488-0c9f-4df6-9f7a-27b6576dc4e3",
   "metadata": {},
   "outputs": [
    {
     "data": {
      "text/plain": [
       "'First outer paragraph.'"
      ]
     },
     "execution_count": 13,
     "metadata": {},
     "output_type": "execute_result"
    }
   ],
   "source": [
    "soup.find_all('p', {\"class\":\"outer-text\", \"id\":\"second\"})[0].get_text().strip()"
   ]
  },
  {
   "cell_type": "code",
   "execution_count": 14,
   "id": "55933c5c-647b-4f8c-b779-33218cc4b2a8",
   "metadata": {},
   "outputs": [
    {
     "data": {
      "text/plain": [
       "<p class=\"inner-text first-item\" id=\"first\">\n",
       "                First paragraph.\n",
       "            </p>"
      ]
     },
     "execution_count": 14,
     "metadata": {},
     "output_type": "execute_result"
    }
   ],
   "source": [
    "soup.find(id=\"first\")"
   ]
  },
  {
   "cell_type": "code",
   "execution_count": 15,
   "id": "207c7a53-b1f3-4be0-b51a-29fd83fef273",
   "metadata": {},
   "outputs": [
    {
     "data": {
      "text/plain": [
       "'<!DOCTYPE html>\\n<html class=\"client-nojs vector-feature-language-in-header-enabled vector-feature-language-in-main-page-header-disabled vector-feature-sticky-header-disabled vector-feature-page-tools-pinned-disabled vector-feature-toc-pinned-clientpref-1 vector-feature-main-menu-pinned-disabled vector-feature-limited-width-clientpref-1 vector-feature-limited-width-content-enabled vector-feature-custom-font-size-clientpref-0 vector-feature-client-preferences-disabled vector-feature-client-prefs-pinned-disabled vector-feature-night-mode-disabled skin-night-mode-clientpref-0 vector-toc-available\" dir=\"ltr\" lang=\"fr\">\\n<head>\\n<meta charset=\"utf-8\"/>\\n<title>Science des données — Wikipédia</title>\\n<script>(function(){var className=\"client-js vector-feature-language-in-header-enabled vector-feature-language-in-main-page-header-disabled vector-feature-sticky-header-disabled vector-feature-page-tools-pinned-disabled vector-feature-toc-pinned-clientpref-1 vector-feature-main-menu-pinned-disabled '"
      ]
     },
     "execution_count": 15,
     "metadata": {},
     "output_type": "execute_result"
    }
   ],
   "source": [
    "wikipedia_DS_url = \"https://fr.wikipedia.org/wiki/Science_des_donn%C3%A9es\"\n",
    "wiki_raw = requests.get(wikipedia_DS_url)\n",
    "soup = BeautifulSoup(wiki_raw.content)\n",
    "str(soup)[:1000]"
   ]
  },
  {
   "cell_type": "code",
   "execution_count": 16,
   "id": "ca5d28fa-e13b-4e75-8a7d-92a2f70ad0b9",
   "metadata": {},
   "outputs": [
    {
     "data": {
      "text/plain": [
       "'<main class=\"mw-body\" id=\"content\" role=\"main\">\\n<header class=\"mw-body-header vector-page-titlebar\">\\n<nav aria-label=\"Sommaire\" class=\"vector-toc-landmark\" role=\"navigation\">\\n<div class=\"vector-dropdown vector-page-titlebar-toc vector-button-flush-left\" id=\"vector-page-titlebar-toc\">\\n<input aria-haspopup=\"true\" aria-label=\"Basculer la table des matières\" class=\"vector-dropdown-checkbox\" data-event-name=\"ui.dropdown-vector-page-titlebar-toc\" id=\"vector-page-titlebar-toc-checkbox\" role=\"button\" type=\"checkbox\"/>\\n<label aria-hidden=\"true\" class=\"vector-dropdown-label cdx-button cdx-button--fake-button cdx-button--fake-button--enabled cdx-button--weight-quiet cdx-button--icon-only\" for=\"vector-page-titlebar-toc-checkbox\" id=\"vector-page-titlebar-toc-label\"><span class=\"vector-icon mw-ui-icon-listBullet mw-ui-icon-wikimedia-listBullet\"></span>\\n<span class=\"vector-dropdown-label-text\">Basculer la table des matières</span>\\n</label>\\n<div class=\"vector-dropdown-content\">\\n<div class=\"vector-unpi'"
      ]
     },
     "execution_count": 16,
     "metadata": {},
     "output_type": "execute_result"
    }
   ],
   "source": [
    "main_soup = soup.find(\"main\")  # pas besoin de find_all car il n'y a qu'un main\n",
    "str(main_soup)[:1000]"
   ]
  },
  {
   "cell_type": "code",
   "execution_count": 18,
   "id": "7af67735-517f-4727-940e-d55d389c96a5",
   "metadata": {},
   "outputs": [],
   "source": [
    "links = main_soup.find_all(\"a\")"
   ]
  },
  {
   "cell_type": "code",
   "execution_count": 19,
   "id": "c6086fc9-340d-4e8f-be64-96620ef9cad2",
   "metadata": {},
   "outputs": [
    {
     "data": {
      "text/plain": [
       "[<a class=\"interlanguage-link-target\" href=\"https://ar.wikipedia.org/wiki/%D8%B9%D9%84%D9%85_%D8%A7%D9%84%D8%A8%D9%8A%D8%A7%D9%86%D8%A7%D8%AA\" hreflang=\"ar\" lang=\"ar\" title=\"علم البيانات – arabe\"><span>العربية</span></a>,\n",
       " <a class=\"interlanguage-link-target\" href=\"https://az.wikipedia.org/wiki/Veril%C9%99nl%C9%99r_elmi\" hreflang=\"az\" lang=\"az\" title=\"Verilənlər elmi – azerbaïdjanais\"><span>Azərbaycanca</span></a>,\n",
       " <a class=\"interlanguage-link-target\" href=\"https://bg.wikipedia.org/wiki/%D0%9D%D0%B0%D1%83%D0%BA%D0%B0_%D0%B7%D0%B0_%D0%B4%D0%B0%D0%BD%D0%BD%D0%B8%D1%82%D0%B5\" hreflang=\"bg\" lang=\"bg\" title=\"Наука за данните – bulgare\"><span>Български</span></a>,\n",
       " <a class=\"interlanguage-link-target\" href=\"https://bn.wikipedia.org/wiki/%E0%A6%89%E0%A6%AA%E0%A6%BE%E0%A6%A4%E0%A7%8D%E0%A6%A4_%E0%A6%AC%E0%A6%BF%E0%A6%9C%E0%A7%8D%E0%A6%9E%E0%A6%BE%E0%A6%A8\" hreflang=\"bn\" lang=\"bn\" title=\"উপাত্ত বিজ্ঞান – bengali\"><span>বাংলা</span></a>,\n",
       " <a class=\"interlanguage-link-target\" href=\"https://ca.wikipedia.org/wiki/Ci%C3%A8ncia_de_les_dades\" hreflang=\"ca\" lang=\"ca\" title=\"Ciència de les dades – catalan\"><span>Català</span></a>,\n",
       " <a class=\"interlanguage-link-target\" href=\"https://cs.wikipedia.org/wiki/Data_science\" hreflang=\"cs\" lang=\"cs\" title=\"Data science – tchèque\"><span>Čeština</span></a>,\n",
       " <a class=\"interlanguage-link-target\" href=\"https://de.wikipedia.org/wiki/Data_Science\" hreflang=\"de\" lang=\"de\" title=\"Data Science – allemand\"><span>Deutsch</span></a>,\n",
       " <a class=\"interlanguage-link-target\" href=\"https://el.wikipedia.org/wiki/%CE%95%CF%80%CE%B9%CF%83%CF%84%CE%AE%CE%BC%CE%B7_%CE%B4%CE%B5%CE%B4%CE%BF%CE%BC%CE%AD%CE%BD%CF%89%CE%BD\" hreflang=\"el\" lang=\"el\" title=\"Επιστήμη δεδομένων – grec\"><span>Ελληνικά</span></a>,\n",
       " <a class=\"interlanguage-link-target\" href=\"https://en.wikipedia.org/wiki/Data_science\" hreflang=\"en\" lang=\"en\" title=\"Data science – anglais\"><span>English</span></a>,\n",
       " <a class=\"interlanguage-link-target\" href=\"https://eo.wikipedia.org/wiki/Datum-scienco\" hreflang=\"eo\" lang=\"eo\" title=\"Datum-scienco – espéranto\"><span>Esperanto</span></a>]"
      ]
     },
     "execution_count": 19,
     "metadata": {},
     "output_type": "execute_result"
    }
   ],
   "source": [
    "links = main_soup.find_all(\"a\", href=True, title=True)\n",
    "links[:10]"
   ]
  },
  {
   "cell_type": "code",
   "execution_count": 20,
   "id": "15c5ecce-dd74-48fd-a025-54f8ed8e897a",
   "metadata": {},
   "outputs": [
    {
     "data": {
      "text/plain": [
       "False"
      ]
     },
     "execution_count": 20,
     "metadata": {},
     "output_type": "execute_result"
    }
   ],
   "source": [
    "'Bonjour'.startswith(\"a\")"
   ]
  },
  {
   "cell_type": "code",
   "execution_count": 21,
   "id": "12be5c51-eb60-451d-b0c8-05aba93c6ff7",
   "metadata": {},
   "outputs": [],
   "source": [
    "links = main_soup.find_all(\"a\", href=lambda link: link and link.startswith(\"/wiki/\"), title=True)"
   ]
  },
  {
   "cell_type": "code",
   "execution_count": 22,
   "id": "a6697ab0-5902-44bd-bb7a-b5335a82deb9",
   "metadata": {},
   "outputs": [
    {
     "name": "stdout",
     "output_type": "stream",
     "text": [
      "[<a accesskey=\"c\" href=\"/wiki/Science_des_donn%C3%A9es\" title=\"Voir le contenu de la page [c]\"><span>Article</span></a>, <a accesskey=\"t\" href=\"/wiki/Discussion:Science_des_donn%C3%A9es\" rel=\"discussion\" title=\"Discussion au sujet de cette page de contenu [t]\"><span>Discussion</span></a>, <a accesskey=\"j\" href=\"/wiki/Sp%C3%A9cial:Pages_li%C3%A9es/Science_des_donn%C3%A9es\" title=\"Liste des pages liées qui pointent sur celle-ci [j]\"><span>Pages liées</span></a>, <a accesskey=\"k\" href=\"/wiki/Sp%C3%A9cial:Suivi_des_liens/Science_des_donn%C3%A9es\" rel=\"nofollow\" title=\"Liste des modifications récentes des pages appelées par celle-ci [k]\"><span>Suivi des pages liées</span></a>, <a accesskey=\"u\" href=\"/wiki/Aide:Importer_un_fichier\" title=\"Téléverser des fichiers [u]\"><span>Téléverser un fichier</span></a>]\n"
     ]
    }
   ],
   "source": [
    "print(links[:5])"
   ]
  },
  {
   "cell_type": "code",
   "execution_count": 24,
   "id": "04df6483-4422-42ae-88e2-8effd0342044",
   "metadata": {},
   "outputs": [],
   "source": [
    "liens = []\n",
    "for l in links:\n",
    "    liens.append(l['href'])"
   ]
  },
  {
   "cell_type": "code",
   "execution_count": 25,
   "id": "519cd41b-3594-4fd0-9786-a1ac5a8692e1",
   "metadata": {},
   "outputs": [
    {
     "data": {
      "text/plain": [
       "['/wiki/Science_des_donn%C3%A9es',\n",
       " '/wiki/Discussion:Science_des_donn%C3%A9es',\n",
       " '/wiki/Sp%C3%A9cial:Pages_li%C3%A9es/Science_des_donn%C3%A9es',\n",
       " '/wiki/Sp%C3%A9cial:Suivi_des_liens/Science_des_donn%C3%A9es',\n",
       " '/wiki/Aide:Importer_un_fichier']"
      ]
     },
     "execution_count": 25,
     "metadata": {},
     "output_type": "execute_result"
    }
   ],
   "source": [
    "liens[:5]"
   ]
  },
  {
   "cell_type": "code",
   "execution_count": 33,
   "id": "792a4e9d-6c02-4aa4-b198-c772d7005975",
   "metadata": {},
   "outputs": [
    {
     "name": "stdout",
     "output_type": "stream",
     "text": [
      "/wiki/Science_des_données\n",
      "/wiki/Discussion:Science_des_données\n",
      "/wiki/Spécial:Pages_liées/Science_des_données\n",
      "/wiki/Spécial:Suivi_des_liens/Science_des_données\n",
      "/wiki/Aide:Importer_un_fichier\n"
     ]
    }
   ],
   "source": [
    "from urllib.parse import unquote\n",
    "\n",
    "\n",
    "decoded_urls = [unquote(url) for url in liens]\n",
    "\n",
    "for i,url in enumerate(decoded_urls):\n",
    "    print(url)\n",
    "    if i==4: break"
   ]
  },
  {
   "cell_type": "code",
   "execution_count": null,
   "id": "0a109bd4-19b3-47cc-b6be-0b8b55c48fe3",
   "metadata": {},
   "outputs": [],
   "source": []
  },
  {
   "cell_type": "code",
   "execution_count": null,
   "id": "f27bb0ee-3460-4ba6-9ffd-13ec4e90d019",
   "metadata": {},
   "outputs": [],
   "source": []
  }
 ],
 "metadata": {
  "kernelspec": {
   "display_name": "Python 3 (ipykernel)",
   "language": "python",
   "name": "python3"
  },
  "language_info": {
   "codemirror_mode": {
    "name": "ipython",
    "version": 3
   },
   "file_extension": ".py",
   "mimetype": "text/x-python",
   "name": "python",
   "nbconvert_exporter": "python",
   "pygments_lexer": "ipython3",
   "version": "3.10.11"
  }
 },
 "nbformat": 4,
 "nbformat_minor": 5
}
